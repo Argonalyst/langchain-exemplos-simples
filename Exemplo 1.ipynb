{
 "cells": [
  {
   "cell_type": "code",
   "execution_count": 1,
   "id": "2521227d",
   "metadata": {},
   "outputs": [],
   "source": [
    "chave_openai = \"<chave de api openai>\""
   ]
  },
  {
   "cell_type": "code",
   "execution_count": 2,
   "id": "da63a585",
   "metadata": {},
   "outputs": [],
   "source": [
    "from langchain.llms import OpenAI\n",
    "from langchain.chat_models import ChatOpenAI\n",
    "\n",
    "from langchain.schema import (\n",
    "    HumanMessage,\n",
    "    SystemMessage\n",
    ")\n",
    "\n",
    "llm = ChatOpenAI(openai_api_key=chave_openai, temperature=0.9, model_name=\"gpt-3.5-turbo\")"
   ]
  },
  {
   "cell_type": "code",
   "execution_count": 3,
   "id": "47289628",
   "metadata": {},
   "outputs": [
    {
     "name": "stdout",
     "output_type": "stream",
     "text": [
      "lc_kwargs={'content': 'A capital do Brasil é Brasília.'} content='A capital do Brasil é Brasília.' additional_kwargs={} example=False\n"
     ]
    }
   ],
   "source": [
    "response = llm([HumanMessage(content=\"Qual a capital do Brasil?\")])\n",
    "\n",
    "print(response)"
   ]
  }
 ],
 "metadata": {
  "kernelspec": {
   "display_name": "Python 3 (ipykernel)",
   "language": "python",
   "name": "python3"
  },
  "language_info": {
   "codemirror_mode": {
    "name": "ipython",
    "version": 3
   },
   "file_extension": ".py",
   "mimetype": "text/x-python",
   "name": "python",
   "nbconvert_exporter": "python",
   "pygments_lexer": "ipython3",
   "version": "3.10.9"
  }
 },
 "nbformat": 4,
 "nbformat_minor": 5
}
