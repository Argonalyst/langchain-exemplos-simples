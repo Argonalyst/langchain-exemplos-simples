{
 "cells": [
  {
   "cell_type": "code",
   "execution_count": 8,
   "id": "28dc70d8",
   "metadata": {},
   "outputs": [],
   "source": [
    "chave_openai = \"<chave de api openai>\""
   ]
  },
  {
   "cell_type": "code",
   "execution_count": 9,
   "id": "0ffcbb8f",
   "metadata": {},
   "outputs": [],
   "source": [
    "import os\n",
    "import pandas as pd\n",
    "from transformers import GPT2TokenizerFast\n",
    "from langchain.document_loaders import PyPDFLoader\n",
    "from langchain.text_splitter import RecursiveCharacterTextSplitter\n",
    "from langchain.embeddings import OpenAIEmbeddings\n",
    "from langchain.vectorstores import FAISS\n",
    "from langchain.chains.question_answering import load_qa_chain\n",
    "from langchain.llms import OpenAI\n",
    "from langchain.chains import ConversationalRetrievalChain"
   ]
  },
  {
   "cell_type": "code",
   "execution_count": 10,
   "id": "8bd226d6",
   "metadata": {},
   "outputs": [],
   "source": [
    "import textract\n",
    "doc = textract.process(\"./manual_aspirador_eng.pdf\")\n",
    "\n",
    "with open('manual_aspirador_eng.txt', 'w', encoding=\"utf-8\") as f:\n",
    "    f.write(doc.decode('utf-8'))\n",
    "\n",
    "with open('manual_aspirador_eng.txt', 'r', encoding=\"utf-8\") as f:\n",
    "    text = f.read()\n",
    "\n",
    "tokenizer = GPT2TokenizerFast.from_pretrained(\"gpt2\")\n",
    "\n",
    "def count_tokens(text: str) -> int:\n",
    "    return len(tokenizer.encode(text))\n",
    "\n",
    "text_splitter = RecursiveCharacterTextSplitter(\n",
    "    chunk_size = 512,\n",
    "    chunk_overlap  = 24,\n",
    "    length_function = count_tokens,\n",
    ")\n",
    "\n",
    "chunks = text_splitter.create_documents([text])"
   ]
  },
  {
   "cell_type": "code",
   "execution_count": 11,
   "id": "0c96d695",
   "metadata": {},
   "outputs": [],
   "source": [
    "embeddings = OpenAIEmbeddings(openai_api_key=chave_openai, model=\"text-embedding-ada-002\")\n",
    "\n",
    "db = FAISS.from_documents(chunks, embeddings)"
   ]
  },
  {
   "cell_type": "code",
   "execution_count": 12,
   "id": "94dd07fe",
   "metadata": {},
   "outputs": [
    {
     "data": {
      "text/plain": [
       "Document(lc_kwargs={'page_content': 'yourself.\\n\\n\\n\\n24\\n\\n\\n\\n\\x0cInvestigation of common problems\\n\\nNo.\\n\\n\\n\\nPrompt Tone\\n\\n\\n\\nCause of Failure\\n\\n\\n\\nSolution\\n\\n\\n\\n1\\n\\n\\n\\nWheels off the ground.\\n\\n\\n\\nHost suspended.\\n\\n\\n\\nPlease put the host back to the ground and press the\\n\\ncleaning key again.\\n\\n\\n\\n2\\n\\n\\n\\nDust box not installed.\\n\\n\\n\\nDust box removed and not installed.\\n\\n\\n\\nReplace the dustbin to the host and press the cleaning\\n\\nbutton again.\\n\\n\\n\\n3\\n\\n\\n\\nBattery failure.\\n\\n\\n\\nAbnormal battery charging.\\n\\n\\n\\nContact after-sales service to test the battery.\\n\\n\\n\\n4\\n\\n\\n\\nPlease check if the wheel is stuck.\\n\\n\\n\\nWheel jammed.\\n\\n\\n\\nCheck whether the wheel is entangled with foreign objects\\n\\nand clean up the entangled objects.\\n\\n\\n\\n5\\n\\n\\n\\nPlease check if the front bumper is\\n\\nstuck.\\n\\n\\n\\nFront bumper bracket stuck.\\n\\n\\n\\nCheck whether the front bumper can be bounced\\n\\nnormally.\\n\\n\\n\\n6\\n\\n\\n\\nRobot connection failed.\\n\\n\\n\\nMachine failed to connect to server.\\n\\n\\n\\nCheck whether the wireless network connected during\\n\\ndistribution can connect to the internet.\\n\\n\\n\\n7\\n\\n\\n\\nThe battery is low, please charge\\n\\nthe machine.\\n\\n\\n\\nBattery power less than 20%.\\n\\n\\n\\nThe host automatically switches to recharging mode.\\n\\n\\n\\n8\\n\\n\\n\\nPlease check whether the side\\n\\nbrush is tangled or jammed.\\n\\n\\n\\nAbnormal side brush.\\n\\n\\n\\nCheck whether the side brush is twined by wire or hair\\n\\nand clean up the wire or hair.\\n\\n\\n\\n9\\n\\n\\n\\nPlease move the machine to the\\n\\nopen area.\\n\\n\\n\\nThe machine failed to get out\\n\\nof trouble.\\n\\n\\n\\nPlease move the host to an empty place and press the\\n\\ncleaning key again.\\n\\n\\n\\n25\\n\\n\\n\\n\\x0cProduct Parameter\\n\\nClassification\\n\\n\\n\\nStructural class\\n\\n\\n\\nBattery\\n\\n\\n\\nSweeping parameter\\n\\n\\n\\nItem\\n\\n\\n\\nParameter\\n\\n\\n\\nDiameter\\n\\n\\n\\n330 mm\\n\\n\\n\\nHeight\\n\\n\\n\\n74mm\\n\\n\\n\\nNet weight\\n\\n\\n\\n2.7 kg\\n\\n\\n\\nVoltage\\n\\n\\n\\n14.4 volts\\n\\n\\n\\nBattery', 'metadata': {}}, page_content='yourself.\\n\\n\\n\\n24\\n\\n\\n\\n\\x0cInvestigation of common problems\\n\\nNo.\\n\\n\\n\\nPrompt Tone\\n\\n\\n\\nCause of Failure\\n\\n\\n\\nSolution\\n\\n\\n\\n1\\n\\n\\n\\nWheels off the ground.\\n\\n\\n\\nHost suspended.\\n\\n\\n\\nPlease put the host back to the ground and press the\\n\\ncleaning key again.\\n\\n\\n\\n2\\n\\n\\n\\nDust box not installed.\\n\\n\\n\\nDust box removed and not installed.\\n\\n\\n\\nReplace the dustbin to the host and press the cleaning\\n\\nbutton again.\\n\\n\\n\\n3\\n\\n\\n\\nBattery failure.\\n\\n\\n\\nAbnormal battery charging.\\n\\n\\n\\nContact after-sales service to test the battery.\\n\\n\\n\\n4\\n\\n\\n\\nPlease check if the wheel is stuck.\\n\\n\\n\\nWheel jammed.\\n\\n\\n\\nCheck whether the wheel is entangled with foreign objects\\n\\nand clean up the entangled objects.\\n\\n\\n\\n5\\n\\n\\n\\nPlease check if the front bumper is\\n\\nstuck.\\n\\n\\n\\nFront bumper bracket stuck.\\n\\n\\n\\nCheck whether the front bumper can be bounced\\n\\nnormally.\\n\\n\\n\\n6\\n\\n\\n\\nRobot connection failed.\\n\\n\\n\\nMachine failed to connect to server.\\n\\n\\n\\nCheck whether the wireless network connected during\\n\\ndistribution can connect to the internet.\\n\\n\\n\\n7\\n\\n\\n\\nThe battery is low, please charge\\n\\nthe machine.\\n\\n\\n\\nBattery power less than 20%.\\n\\n\\n\\nThe host automatically switches to recharging mode.\\n\\n\\n\\n8\\n\\n\\n\\nPlease check whether the side\\n\\nbrush is tangled or jammed.\\n\\n\\n\\nAbnormal side brush.\\n\\n\\n\\nCheck whether the side brush is twined by wire or hair\\n\\nand clean up the wire or hair.\\n\\n\\n\\n9\\n\\n\\n\\nPlease move the machine to the\\n\\nopen area.\\n\\n\\n\\nThe machine failed to get out\\n\\nof trouble.\\n\\n\\n\\nPlease move the host to an empty place and press the\\n\\ncleaning key again.\\n\\n\\n\\n25\\n\\n\\n\\n\\x0cProduct Parameter\\n\\nClassification\\n\\n\\n\\nStructural class\\n\\n\\n\\nBattery\\n\\n\\n\\nSweeping parameter\\n\\n\\n\\nItem\\n\\n\\n\\nParameter\\n\\n\\n\\nDiameter\\n\\n\\n\\n330 mm\\n\\n\\n\\nHeight\\n\\n\\n\\n74mm\\n\\n\\n\\nNet weight\\n\\n\\n\\n2.7 kg\\n\\n\\n\\nVoltage\\n\\n\\n\\n14.4 volts\\n\\n\\n\\nBattery', metadata={})"
      ]
     },
     "execution_count": 12,
     "metadata": {},
     "output_type": "execute_result"
    }
   ],
   "source": [
    "query = \"Robot does not work off the charging dock. Why?\"\n",
    "docs = db.similarity_search(query)\n",
    "docs[0]"
   ]
  },
  {
   "cell_type": "code",
   "execution_count": 13,
   "id": "054cee5c",
   "metadata": {},
   "outputs": [
    {
     "data": {
      "text/plain": [
       "' Check if the wheels are stuck or entangled with foreign objects. If so, clean up the entangled objects.'"
      ]
     },
     "execution_count": 13,
     "metadata": {},
     "output_type": "execute_result"
    }
   ],
   "source": [
    "chain = load_qa_chain(OpenAI(openai_api_key=chave_openai, temperature=0), chain_type=\"stuff\")\n",
    "\n",
    "chain.run(input_documents=docs, question=query)"
   ]
  },
  {
   "cell_type": "code",
   "execution_count": null,
   "id": "3def034d",
   "metadata": {},
   "outputs": [],
   "source": []
  }
 ],
 "metadata": {
  "kernelspec": {
   "display_name": "Python 3 (ipykernel)",
   "language": "python",
   "name": "python3"
  },
  "language_info": {
   "codemirror_mode": {
    "name": "ipython",
    "version": 3
   },
   "file_extension": ".py",
   "mimetype": "text/x-python",
   "name": "python",
   "nbconvert_exporter": "python",
   "pygments_lexer": "ipython3",
   "version": "3.10.9"
  }
 },
 "nbformat": 4,
 "nbformat_minor": 5
}
